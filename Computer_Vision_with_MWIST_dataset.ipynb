{
 "cells": [
  {
   "cell_type": "markdown",
   "id": "fc48425a",
   "metadata": {},
   "source": [
    "Build a neural network to recognize different items of clothing, trained from a dataset containing 10 different types.\n",
    "The Fashion MNIST dataset is a collection of grayscale 28x28 pixel clothing images of 10 different types.This dataset is available directly in the tf.keras.datasets API."
   ]
  },
  {
   "cell_type": "code",
   "execution_count": 2,
   "id": "9e409e94",
   "metadata": {},
   "outputs": [
    {
     "name": "stdout",
     "output_type": "stream",
     "text": [
      "2.16.1\n"
     ]
    }
   ],
   "source": [
    "import tensorflow as tf\n",
    "\n",
    "print(tf.__version__)"
   ]
  },
  {
   "cell_type": "code",
   "execution_count": 4,
   "id": "b84353ba",
   "metadata": {},
   "outputs": [],
   "source": [
    "# Evaluate the model on unseen data\n",
    "model.evaluate(test_images, test_labels)"
   ]
  },
  {
   "cell_type": "code",
   "execution_count": 5,
   "id": "3dbe3ca7",
   "metadata": {},
   "outputs": [
    {
     "name": "stdout",
     "output_type": "stream",
     "text": [
      "Downloading data from https://storage.googleapis.com/tensorflow/tf-keras-datasets/train-labels-idx1-ubyte.gz\n",
      "\u001b[1m29515/29515\u001b[0m \u001b[32m━━━━━━━━━━━━━━━━━━━━\u001b[0m\u001b[37m\u001b[0m \u001b[1m0s\u001b[0m 5us/step\n",
      "Downloading data from https://storage.googleapis.com/tensorflow/tf-keras-datasets/train-images-idx3-ubyte.gz\n",
      "\u001b[1m26421880/26421880\u001b[0m \u001b[32m━━━━━━━━━━━━━━━━━━━━\u001b[0m\u001b[37m\u001b[0m \u001b[1m29s\u001b[0m 1us/step\n",
      "Downloading data from https://storage.googleapis.com/tensorflow/tf-keras-datasets/t10k-labels-idx1-ubyte.gz\n",
      "\u001b[1m5148/5148\u001b[0m \u001b[32m━━━━━━━━━━━━━━━━━━━━\u001b[0m\u001b[37m\u001b[0m \u001b[1m0s\u001b[0m 2us/step\n",
      "Downloading data from https://storage.googleapis.com/tensorflow/tf-keras-datasets/t10k-images-idx3-ubyte.gz\n",
      "\u001b[1m4422102/4422102\u001b[0m \u001b[32m━━━━━━━━━━━━━━━━━━━━\u001b[0m\u001b[37m\u001b[0m \u001b[1m5s\u001b[0m 1us/step\n"
     ]
    }
   ],
   "source": [
    "# Load the training and test split of the Fashion MNIST dataset\n",
    "(training_images, training_labels), (test_images, test_labels) = fmnist.load_data()"
   ]
  },
  {
   "cell_type": "markdown",
   "id": "cd13c2bb",
   "metadata": {},
   "source": [
    "Print a training image (both as an image and a numpy array), and a training label to see. Experiment with different indices in the array. For example, also take a look at index 42. That's a different boot than the one at index 0."
   ]
  },
  {
   "cell_type": "code",
   "execution_count": 7,
   "id": "6798e1b2",
   "metadata": {},
   "outputs": [
    {
     "name": "stdout",
     "output_type": "stream",
     "text": [
      "LABEL: 2\n",
      "\n",
      "IMAGE PIXEL ARRAY:\n",
      " [[  0   0   0   0   0   1   1   0   0   0   0  63  28   0   0   0  33  85   0   0   0   0   0   0   0   0   0   0]\n",
      " [  0   0   0   0   0   2   0   0  28 126 241 255 255 255 255 255 255 252 248 111   0   0   0   2   0   0   0   0]\n",
      " [  0   0   0   0   2   0   0 206 244 251 241 230 238 221 205 230 240 230 239 251 233 165   0   0   2   0   0   0]\n",
      " [  0   0   0   1   0   0 199 251 228 234 233 236 235 245 247 237 234 239 230 230 235 255 176   0   0   1   0   0]\n",
      " [  0   0   0   0   0  81 254 226 228 239 237 236 234 232 233 235 235 236 239 237 233 225 246  73   0   0   0   0]\n",
      " [  0   0   3   0   0 255 235 239 223 234 238 236 237 236 235 235 235 235 236 235 234 230 231 255  24   0   4   0]\n",
      " [  0   0   0   0 177 239 223 254 223 232 234 234 236 236 235 235 235 235 235 234 231 233 222 246  88   0   1   0]\n",
      " [  0   0   0   0 234 239 229 255 220 232 233 232 234 235 235 235 235 235 234 233 232 230 228 254 140   0   0   0]\n",
      " [  0   0   0   0 225 240 226 255 221 227 232 228 231 230 228 229 231 230 228 228 232 223 229 244 231   0   0   0]\n",
      " [  0   0   0  47 245 231 234 249 229 221 229 225 229 227 226 227 228 227 228 229 228 224 246 240 227   0   0   0]\n",
      " [  0   0   0  51 248 230 245 246 230 226 230 227 230 229 228 229 230 228 228 231 225 227 242 237 255   0   0   0]\n",
      " [  0   0   0 101 253 229 247 241 221 233 228 227 229 228 227 228 230 227 230 234 225 229 251 229 243  55   0   0]\n",
      " [  0   0   0 102 255 227 242 241 221 234 223 230 228 231 229 231 231 227 229 241 219 236 254 225 250 167   0   0]\n",
      " [  0   0   0  90 255 229 236 231 222 236 223 231 229 231 229 231 231 228 224 245 218 243 239 227 244 175   0   0]\n",
      " [  0   0   0 212 250 225 236 249 229 237 223 231 229 231 229 231 231 230 221 243 225 248 230 236 234 255   1   0]\n",
      " [  0   0   0 245 243 232 243 218 228 238 222 231 229 231 229 231 231 230 222 237 237 252 229 239 240 223   0   0]\n",
      " [  0   0  27 255 235 242 237 216 230 236 224 229 227 233 233 233 230 228 224 230 245 247 221 243 239 252   0   0]\n",
      " [  0   0  88 255 232 248 236 208 234 231 223 227 226 233 232 232 230 228 224 224 235 233 234 247 235 255   0   0]\n",
      " [  0   0  83 255 225 250 237 224 236 229 225 225 227 235 229 231 230 230 227 221 227 221 239 250 231 255   0   0]\n",
      " [  0   0  20 255 224 248 234 226 232 222 225 224 231 238 226 230 228 230 230 221 229 225 244 246 230 255   0   0]\n",
      " [  0   0  95 255 218 242 255 232 226 224 229 228 228 232 228 229 231 233 232 226 221 224 247 244 228 255   0   0]\n",
      " [  0   0 167 255 213 235 255  81 245 251 238 236 230 229 230 229 230 231 238 240 255 192 255 239 228 255  23   0]\n",
      " [  0   0 173 242 224 233 255   0 136 226 239 255 229 236 236 234 233 228 251 248 200  81 255 237 225 255 101   0]\n",
      " [  0   0 172 255 226 233 255   0   0   0   0   0   8  21  22  21  20  14   0   0   0   0 255 238 229 246 178   0]\n",
      " [  0   0  16 255 236 238 252   0   0   0   0   0   0   0   0   0   0   0   0   0   0   0 222 244 222 254 119   0]\n",
      " [  0   0   0  30 228 242 163   0   0   0   0   2   4   6   5   5   4   4   2   0   1   0 151 251 235 180   0   0]\n",
      " [  0   0   0   0 234 255 191   0  11   0   0   0   0   0   0   0   0   0   0   0   4   0 103 246 247  72   0   0]\n",
      " [  0   0   0   1  95  77  52   0   4   0   0   0   0   0   0   0   0   0   0   0   3   0  82 237 231  70   0   0]]\n"
     ]
    },
    {
     "data": {
      "text/plain": [
       "<matplotlib.image.AxesImage at 0x185da5f7e90>"
      ]
     },
     "execution_count": 7,
     "metadata": {},
     "output_type": "execute_result"
    },
    {
     "data": {
      "image/png": "[encoded data removed]",
      "text/plain": [
       "<Figure size 640x480 with 1 Axes>"
      ]
     },
     "metadata": {},
     "output_type": "display_data"
    }
   ],
   "source": [
    "import numpy as np\n",
    "import matplotlib.pyplot as plt\n",
    "\n",
    "# You can put between 0 to 59999 here\n",
    "index = 7\n",
    "\n",
    "# Set number of characters per row when printing\n",
    "np.set_printoptions(linewidth=320)\n",
    "\n",
    "# Print the label and image\n",
    "print(f'LABEL: {training_labels[index]}')\n",
    "print(f'\\nIMAGE PIXEL ARRAY:\\n {training_images[index]}')\n",
    "\n",
    "# Visualize the image\n",
    "plt.imshow(training_images[index])"
   ]
  },
  {
   "cell_type": "markdown",
   "id": "a738930c",
   "metadata": {},
   "source": [
    "Above number are between 0 and 255. While training a neural network especially in image processing, for various reasons it will usually learn better if you scale all values to between 0 and 1. It's a process called normalization."
   ]
  },
  {
   "cell_type": "code",
   "execution_count": 8,
   "id": "5ac41f76",
   "metadata": {},
   "outputs": [],
   "source": [
    "# Normalize the pixel values of the train and test images\n",
    "training_images  = training_images / 255.0\n",
    "test_images = test_images / 255.0"
   ]
  },
  {
   "cell_type": "markdown",
   "id": "c635247b",
   "metadata": {},
   "source": [
    "# Design the model"
   ]
  },
  {
   "cell_type": "markdown",
   "id": "4c864e98",
   "metadata": {},
   "source": [
    "Sequential: That defines a sequence of layers in the neural network.\n",
    "\n",
    "Flatten: Remember earlier where our images were a 28x28 pixel matrix when you printed them out? Flatten just takes that square and turns it into a 1-dimensional array.\n",
    "\n",
    "Dense: Adds a layer of neurons\n",
    "\n",
    "Each layer of neurons need an activation function to tell them what to do. There are a lot of options, one of them is:\n",
    "\n",
    "ReLU effectively means:\n",
    "\n",
    "if x > 0: \n",
    "  return x\n",
    "\n",
    "else: \n",
    "  return 0\n",
    "In other words, it only passes values greater than 0 to the next layer in the network.\n",
    "\n",
    "Softmax takes a list of values and scales these so the sum of all elements will be equal to 1. When applied to model outputs, you can think of the scaled values as the probability for that class. For example, in this classification model which has 10 units in the output dense layer, having the highest value at index = 4 means that the model is most confident that the input clothing image is a coat. If it is at index = 5, then it is a sandal, and so forth. "
   ]
  },
  {
   "cell_type": "markdown",
   "id": "b13c5003",
   "metadata": {},
   "source": [
    "# Build Model"
   ]
  },
  {
   "cell_type": "code",
   "execution_count": 9,
   "id": "fa0ed5e2",
   "metadata": {},
   "outputs": [],
   "source": [
    "# Build the classification model\n",
    "#here 1st layer is input layer in the shape of data(28X28) and output layer in the shape of classes(10 different classes in dataset), Hidden layer with 128 neurons to find rules between them.\n",
    "model = tf.keras.models.Sequential([tf.keras.layers.Flatten(), \n",
    "                                    tf.keras.layers.Dense(128, activation=tf.nn.relu),       \n",
    "                                    tf.keras.layers.Dense(10, activation=tf.nn.softmax)])"
   ]
  },
  {
   "cell_type": "code",
   "execution_count": 10,
   "id": "e2404390",
   "metadata": {},
   "outputs": [
    {
     "name": "stdout",
     "output_type": "stream",
     "text": [
      "input to softmax function: [[1. 3. 4. 2.]]\n",
      "output of softmax function: [[0.0320586  0.23688282 0.64391426 0.08714432]]\n",
      "sum of outputs: 1.0\n",
      "class with highest probability: 2\n"
     ]
    }
   ],
   "source": [
    "#Declare sample inputs and convert to a tensor\n",
    "inputs = np.array([[1.0, 3.0, 4.0, 2.0]])\n",
    "inputs = tf.convert_to_tensor(inputs)\n",
    "print(f'input to softmax function: {inputs.numpy()}')\n",
    "\n",
    "# Feed the inputs to a softmax activation function\n",
    "outputs = tf.keras.activations.softmax(inputs)\n",
    "print(f'output of softmax function: {outputs.numpy()}')\n",
    "\n",
    "# Get the sum of all values after the softmax\n",
    "sum = tf.reduce_sum(outputs)\n",
    "print(f'sum of outputs: {sum}')\n",
    "\n",
    "# Get the index with highest value\n",
    "prediction = np.argmax(outputs)\n",
    "print(f'class with highest probability: {prediction}')"
   ]
  },
  {
   "cell_type": "code",
   "execution_count": 11,
   "id": "37c31e18",
   "metadata": {},
   "outputs": [
    {
     "name": "stdout",
     "output_type": "stream",
     "text": [
      "Epoch 1/5\n",
      "\u001b[1m1875/1875\u001b[0m \u001b[32m━━━━━━━━━━━━━━━━━━━━\u001b[0m\u001b[37m\u001b[0m \u001b[1m11s\u001b[0m 4ms/step - accuracy: 0.7820 - loss: 0.6330\n",
      "Epoch 2/5\n",
      "\u001b[1m1875/1875\u001b[0m \u001b[32m━━━━━━━━━━━━━━━━━━━━\u001b[0m\u001b[37m\u001b[0m \u001b[1m8s\u001b[0m 4ms/step - accuracy: 0.8616 - loss: 0.3877\n",
      "Epoch 3/5\n",
      "\u001b[1m1875/1875\u001b[0m \u001b[32m━━━━━━━━━━━━━━━━━━━━\u001b[0m\u001b[37m\u001b[0m \u001b[1m8s\u001b[0m 4ms/step - accuracy: 0.8782 - loss: 0.3347\n",
      "Epoch 4/5\n",
      "\u001b[1m1875/1875\u001b[0m \u001b[32m━━━━━━━━━━━━━━━━━━━━\u001b[0m\u001b[37m\u001b[0m \u001b[1m8s\u001b[0m 4ms/step - accuracy: 0.8836 - loss: 0.3169\n",
      "Epoch 5/5\n",
      "\u001b[1m1875/1875\u001b[0m \u001b[32m━━━━━━━━━━━━━━━━━━━━\u001b[0m\u001b[37m\u001b[0m \u001b[1m8s\u001b[0m 4ms/step - accuracy: 0.8889 - loss: 0.2975\n"
     ]
    },
    {
     "data": {
      "text/plain": [
       "<keras.src.callbacks.history.History at 0x185da89ff90>"
      ]
     },
     "execution_count": 11,
     "metadata": {},
     "output_type": "execute_result"
    }
   ],
   "source": [
    "#compile and train the model on training data and check accuracy\n",
    "model.compile(optimizer = tf.optimizers.Adam(),\n",
    "              loss = 'sparse_categorical_crossentropy',\n",
    "              metrics=['accuracy'])\n",
    "\n",
    "model.fit(training_images, training_labels, epochs=5)"
   ]
  },
  {
   "cell_type": "code",
   "execution_count": 13,
   "id": "ec06ab17",
   "metadata": {},
   "outputs": [
    {
     "name": "stdout",
     "output_type": "stream",
     "text": [
      "\u001b[1m313/313\u001b[0m \u001b[32m━━━━━━━━━━━━━━━━━━━━\u001b[0m\u001b[37m\u001b[0m \u001b[1m1s\u001b[0m 2ms/step - accuracy: 0.8750 - loss: 0.3432\n",
      "Loss on test data: [0.3471408486366272, 0.8759999871253967]\n"
     ]
    }
   ],
   "source": [
    "# Evaluate the model on unseen data/test data to find loss\n",
    "loss = model.evaluate(test_images, test_labels)\n",
    "print(\"Loss on test data:\", loss)\n"
   ]
  },
  {
   "cell_type": "code",
   "execution_count": 17,
   "id": "fcf8da6e",
   "metadata": {},
   "outputs": [
    {
     "name": "stdout",
     "output_type": "stream",
     "text": [
      "\u001b[1m313/313\u001b[0m \u001b[32m━━━━━━━━━━━━━━━━━━━━\u001b[0m\u001b[37m\u001b[0m \u001b[1m1s\u001b[0m 2ms/step - accuracy: 0.8750 - loss: 0.3432\n",
      "Accuracy on test data: 0.3471408486366272\n"
     ]
    }
   ],
   "source": [
    "accuracy = model.evaluate(test_images, test_labels)[0]  # Index 1 corresponds to accuracy if it's the second metric specified during model compilation\n",
    "print(\"Accuracy on test data:\", accuracy)\n"
   ]
  },
  {
   "cell_type": "markdown",
   "id": "fa197137",
   "metadata": {},
   "source": [
    "# Test on various cases"
   ]
  },
  {
   "cell_type": "markdown",
   "id": "1c4580ce",
   "metadata": {},
   "source": [
    "compare classifications[0] (the model's prediction) with test_labels[0] (the true label), to understand how confident the model is in predicting the correct class for that particular image. The values in classifications[0] represent the model's confidence scores for each class, and the index with the highest score indicates the predicted class"
   ]
  },
  {
   "cell_type": "code",
   "execution_count": 18,
   "id": "d7b85fd4",
   "metadata": {},
   "outputs": [
    {
     "name": "stdout",
     "output_type": "stream",
     "text": [
      "\u001b[1m313/313\u001b[0m \u001b[32m━━━━━━━━━━━━━━━━━━━━\u001b[0m\u001b[37m\u001b[0m \u001b[1m1s\u001b[0m 2ms/step\n",
      "[1.2998117e-05 2.2258466e-07 1.9106412e-07 5.5666569e-09 7.3515491e-07 3.7664950e-02 2.2218992e-06 7.6824710e-02 1.0595276e-05 8.8548344e-01]\n"
     ]
    }
   ],
   "source": [
    "classifications = model.predict(test_images)\n",
    "\n",
    "print(classifications[0])\n"
   ]
  },
  {
   "cell_type": "markdown",
   "id": "c9d44e63",
   "metadata": {},
   "source": [
    "In above the confidence for index 9 (index range : 0 to 9 ) is highest "
   ]
  },
  {
   "cell_type": "code",
   "execution_count": 19,
   "id": "4935b6f8",
   "metadata": {},
   "outputs": [
    {
     "name": "stdout",
     "output_type": "stream",
     "text": [
      "9\n"
     ]
    }
   ],
   "source": [
    "print(test_labels[0])"
   ]
  },
  {
   "cell_type": "markdown",
   "id": "acf29cab",
   "metadata": {},
   "source": [
    "In above test_labels[0] prints 9, it means that the first test image in the dataset belongs to class 9, which corresponds to the category \"Ankle boot\" in the Fashion MNIST dataset"
   ]
  },
  {
   "cell_type": "markdown",
   "id": "510a95cf",
   "metadata": {},
   "source": [
    "# Adding more numbers of neurons in hidden layer"
   ]
  },
  {
   "cell_type": "code",
   "execution_count": 3,
   "id": "486fc2ef",
   "metadata": {},
   "outputs": [
    {
     "name": "stdout",
     "output_type": "stream",
     "text": [
      "Epoch 1/5\n",
      "\u001b[1m1875/1875\u001b[0m \u001b[32m━━━━━━━━━━━━━━━━━━━━\u001b[0m\u001b[37m\u001b[0m \u001b[1m15s\u001b[0m 7ms/step - loss: 0.5987\n",
      "Epoch 2/5\n",
      "\u001b[1m1875/1875\u001b[0m \u001b[32m━━━━━━━━━━━━━━━━━━━━\u001b[0m\u001b[37m\u001b[0m \u001b[1m11s\u001b[0m 6ms/step - loss: 0.3664\n",
      "Epoch 3/5\n",
      "\u001b[1m1875/1875\u001b[0m \u001b[32m━━━━━━━━━━━━━━━━━━━━\u001b[0m\u001b[37m\u001b[0m \u001b[1m11s\u001b[0m 6ms/step - loss: 0.3199\n",
      "Epoch 4/5\n",
      "\u001b[1m1875/1875\u001b[0m \u001b[32m━━━━━━━━━━━━━━━━━━━━\u001b[0m\u001b[37m\u001b[0m \u001b[1m11s\u001b[0m 6ms/step - loss: 0.2966\n",
      "Epoch 5/5\n",
      "\u001b[1m1875/1875\u001b[0m \u001b[32m━━━━━━━━━━━━━━━━━━━━\u001b[0m\u001b[37m\u001b[0m \u001b[1m12s\u001b[0m 7ms/step - loss: 0.2775\n",
      "\u001b[1m313/313\u001b[0m \u001b[32m━━━━━━━━━━━━━━━━━━━━\u001b[0m\u001b[37m\u001b[0m \u001b[1m1s\u001b[0m 3ms/step - loss: 0.3354\n",
      "\u001b[1m313/313\u001b[0m \u001b[32m━━━━━━━━━━━━━━━━━━━━\u001b[0m\u001b[37m\u001b[0m \u001b[1m1s\u001b[0m 4ms/step\n",
      "0.3407962918281555\n",
      "[4.3708392e-06 1.9484925e-07 1.7647339e-07 2.8444740e-08 6.5339412e-07\n",
      " 3.3656455e-04 8.4988360e-06 9.0598166e-03 6.7618871e-06 9.9058294e-01]\n",
      "9\n"
     ]
    }
   ],
   "source": [
    "fmnist = tf.keras.datasets.fashion_mnist\n",
    "\n",
    "(training_images, training_labels) ,  (test_images, test_labels) = fmnist.load_data()\n",
    "\n",
    "training_images = training_images/255.0\n",
    "test_images = test_images/255.0\n",
    "\n",
    "model = tf.keras.models.Sequential([tf.keras.layers.Flatten(),\n",
    "                                    tf.keras.layers.Dense(512, activation=tf.nn.relu), # Try experimenting with this layer\n",
    "                                    tf.keras.layers.Dense(10, activation=tf.nn.softmax)])\n",
    "\n",
    "model.compile(optimizer = 'adam',\n",
    "              loss = 'sparse_categorical_crossentropy')\n",
    "\n",
    "model.fit(training_images, training_labels, epochs=5)\n",
    "\n",
    "loss = model.evaluate(test_images, test_labels)\n",
    "\n",
    "classifications = model.predict(test_images)\n",
    "print(loss)\n",
    "\n",
    "print(classifications[0])\n",
    "print(test_labels[0])"
   ]
  },
  {
   "cell_type": "code",
   "execution_count": null,
   "id": "da3600c2",
   "metadata": {},
   "outputs": [],
   "source": []
  }
 ],
 "metadata": {
  "kernelspec": {
   "display_name": "Python 3 (ipykernel)",
   "language": "python",
   "name": "python3"
  },
  "language_info": {
   "codemirror_mode": {
    "name": "ipython",
    "version": 3
   },
   "file_extension": ".py",
   "mimetype": "text/x-python",
   "name": "python",
   "nbconvert_exporter": "python",
   "pygments_lexer": "ipython3",
   "version": "3.11.5"
  }
 },
 "nbformat": 4,
 "nbformat_minor": 5
}
